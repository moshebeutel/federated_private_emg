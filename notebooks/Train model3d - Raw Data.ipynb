{
 "cells": [
  {
   "cell_type": "markdown",
   "metadata": {
    "collapsed": false
   },
   "source": [
    "# Train Model3d - Raw Data"
   ]
  },
  {
   "cell_type": "markdown",
   "metadata": {
    "collapsed": false
   },
   "source": [
    "This notebook demonstrate the use of `fed_prv_emg` to train a 3D convolution based network on the EMG raw data.\n",
    "\n",
    "The basic concept is to look at 24 sensors the way they are organized on the user's hand."
   ]
  },
  {
   "cell_type": "markdown",
   "metadata": {
    "collapsed": false
   },
   "source": [
    "## Install `fed_prv_emg` and Import dependencies"
   ]
  },
  {
   "cell_type": "code",
   "execution_count": null,
   "outputs": [],
   "source": [
    "print('yy')"
   ],
   "metadata": {
    "collapsed": false,
    "pycharm": {
     "is_executing": true
    }
   }
  },
  {
   "cell_type": "code",
   "execution_count": null,
   "metadata": {
    "collapsed": true,
    "pycharm": {
     "is_executing": true
    }
   },
   "outputs": [],
   "source": [
    "%pip install -i https://test.pypi.org/simple/ fed-prv-emg==0.0.3a0"
   ]
  },
  {
   "cell_type": "code",
   "execution_count": null,
   "metadata": {
    "collapsed": false,
    "pycharm": {
     "is_executing": true
    }
   },
   "outputs": [],
   "source": [
    "import torch\n",
    "import pandas as pd\n",
    "import numpy as np\n",
    "from fed_prv_emg.fed_priv_models.model3d import Models3d\n",
    "from fed_prv_emg.utils import config_logger, prepare_X_y, get_users_list_from_dir, get_traj_for_user, read_trial"
   ]
  }
 ],
 "metadata": {
  "kernelspec": {
   "display_name": "Python 3.7.14 ('venv': venv)",
   "language": "python",
   "name": "python3"
  },
  "language_info": {
   "codemirror_mode": {
    "name": "ipython",
    "version": 2
   },
   "file_extension": ".py",
   "mimetype": "text/x-python",
   "name": "python",
   "nbconvert_exporter": "python",
   "pygments_lexer": "ipython2",
   "version": "3.7.14"
  },
  "vscode": {
   "interpreter": {
    "hash": "503b6755a56f244476ccb06e71dec19c31ed22280ae63ef0dbd0079ac4fcf482"
   }
  }
 },
 "nbformat": 4,
 "nbformat_minor": 0
}
